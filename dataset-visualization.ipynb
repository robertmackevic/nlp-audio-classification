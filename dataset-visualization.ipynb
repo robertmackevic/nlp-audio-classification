{
 "cells": [
  {
   "cell_type": "code",
   "id": "initial_id",
   "metadata": {
    "collapsed": true
   },
   "source": [
    "from typing import Optional\n",
    "\n",
    "from matplotlib import pyplot as plt\n",
    "from torch import Tensor\n",
    "\n",
    "from src.data.loader import get_dataloader\n",
    "from src.utils import load_config"
   ],
   "outputs": [],
   "execution_count": null
  },
  {
   "metadata": {},
   "cell_type": "code",
   "source": [
    "config = load_config()\n",
    "config.batch_size = 1\n",
    "dataloaders = [\n",
    "    get_dataloader(config, subset=\"validation\", snr_db=None, shuffle=False),\n",
    "    get_dataloader(config, subset=\"validation\", snr_db=10, shuffle=False),\n",
    "    get_dataloader(config, subset=\"validation\", snr_db=-10, shuffle=False),\n",
    "]\n",
    "dataset = dataloaders[0].dataset"
   ],
   "id": "efc5e29a74cca812",
   "outputs": [],
   "execution_count": null
  },
  {
   "metadata": {},
   "cell_type": "code",
   "source": [
    "def find_closest_index_for_label(_label: str) -> Optional[int]:\n",
    "    for i in range(len(dataset)):\n",
    "        if dataset.samples[i][\"label\"] == _label:\n",
    "            return i\n",
    "    return None\n",
    "\n",
    "\n",
    "def visualize_waveforms(_label: str) -> None:\n",
    "    index = find_closest_index_for_label(_label)\n",
    "\n",
    "    if index is None:\n",
    "        raise ValueError(f\"Label {_label} not found in dataset.\")\n",
    "\n",
    "    for dl in dataloaders:\n",
    "        waveform = dl.dataset[index][0].squeeze(0)\n",
    "        plot_waveform(waveform, title=f\"Class `{_label}` waveform with SNR {dl.dataset.snr_db}\")\n",
    "\n",
    "\n",
    "def visualize_spectrograms(_label: str) -> None:\n",
    "    index = find_closest_index_for_label(_label)\n",
    "\n",
    "    if index is None:\n",
    "        raise ValueError(f\"Label {_label} not found in dataset.\")\n",
    "\n",
    "    for dl in dataloaders:\n",
    "        for i, (x, _) in enumerate(dl):\n",
    "            if i == index:\n",
    "                mel_spectrogram = x.squeeze(0).squeeze(0)\n",
    "                plot_spectrogram(\n",
    "                    mel_spectrogram,\n",
    "                    title=f\"Class `{_label}` Mel-spectrogram with SNR {dl.dataset.snr_db}\"\n",
    "                )\n",
    "                break\n",
    "\n",
    "\n",
    "def plot_waveform(waveform: Tensor, title: str) -> None:\n",
    "    plt.figure(figsize=(10, 4))\n",
    "    plt.plot(waveform.numpy())\n",
    "    plt.title(title)\n",
    "    plt.xlabel(\"Time (samples)\")\n",
    "    plt.ylabel(\"Amplitude\")\n",
    "    plt.show()\n",
    "\n",
    "\n",
    "def plot_spectrogram(spectrogram: Tensor, title: str) -> None:\n",
    "    plt.figure(figsize=(10, 4))\n",
    "    plt.imshow(spectrogram.numpy(), aspect=\"auto\", origin=\"lower\", cmap=\"viridis\")\n",
    "    plt.title(title)\n",
    "    plt.xlabel(\"Time (frames)\")\n",
    "    plt.ylabel(\"Mel Frequency Bins\")\n",
    "    plt.colorbar(format=\"%+2.0f dB\")\n",
    "    plt.show()"
   ],
   "id": "65b05e07bc360ca5",
   "outputs": [],
   "execution_count": null
  },
  {
   "metadata": {},
   "cell_type": "code",
   "source": [
    "for label in config.classes:\n",
    "    visualize_waveforms(label)\n",
    "    visualize_spectrograms(label)"
   ],
   "id": "d244ae40ced672f",
   "outputs": [],
   "execution_count": null
  }
 ],
 "metadata": {
  "kernelspec": {
   "display_name": "Python 3",
   "language": "python",
   "name": "python3"
  },
  "language_info": {
   "codemirror_mode": {
    "name": "ipython",
    "version": 2
   },
   "file_extension": ".py",
   "mimetype": "text/x-python",
   "name": "python",
   "nbconvert_exporter": "python",
   "pygments_lexer": "ipython2",
   "version": "2.7.6"
  }
 },
 "nbformat": 4,
 "nbformat_minor": 5
}
