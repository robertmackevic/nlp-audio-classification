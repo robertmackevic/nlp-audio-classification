{
 "cells": [
  {
   "cell_type": "code",
   "id": "initial_id",
   "metadata": {
    "collapsed": true
   },
   "source": [
    "from collections import Counter, defaultdict\n",
    "from pathlib import Path\n",
    "\n",
    "import torchaudio\n",
    "\n",
    "from src.data.dataset import AudioClassificationDataset"
   ],
   "outputs": [],
   "execution_count": null
  },
  {
   "metadata": {},
   "cell_type": "code",
   "source": [
    "def calculate_wav_duration_seconds(filepath: Path) -> float:\n",
    "    waveform, sample_rate = torchaudio.load(filepath)\n",
    "    duration_seconds = waveform.shape[1] / sample_rate\n",
    "    return duration_seconds\n",
    "\n",
    "\n",
    "def summarize(dataset: AudioClassificationDataset) -> None:\n",
    "    num_samples = len(dataset.samples)\n",
    "    class_counter = Counter([sample[\"label\"] for sample in dataset.samples])\n",
    "    speaker_counter = Counter([sample[\"speaker\"] for sample in dataset.samples])\n",
    "\n",
    "    class_durations = defaultdict(float)\n",
    "    for sample in dataset.samples:\n",
    "        class_durations[sample[\"label\"]] += calculate_wav_duration_seconds(sample[\"filepath\"])\n",
    "    total_seconds = sum(class_durations.values())\n",
    "    mean_duration = total_seconds / num_samples\n",
    "\n",
    "    print(f\"Number of samples: {num_samples}\")\n",
    "    print(f\"Sample rate: {dataset.SAMPLE_RATE}\")\n",
    "    print(f\"Total duration: {total_seconds:.2f}s\")\n",
    "    print(f\"Mean duration: {mean_duration:.2f}s\")\n",
    "    print(f\"Number of classes: {len(class_counter)}\")\n",
    "    print(f\"Number of speakers: {len(speaker_counter)}\")\n",
    "    print(\"Number of samples per class:\")\n",
    "    print(\"\\tLabel\\tNum.\\tNum. %\\tSec.\\tSec. %\")\n",
    "    for label in dataset.CLASS_LABELS:\n",
    "        count = class_counter.get(label)\n",
    "        class_info_string = f\"\\t{label} \\t{count} \\t\"\n",
    "        class_info_string += f\"{count / num_samples * 100:.2f}%\\t\"\n",
    "        class_info_string += f\"{class_durations[label]:.0f}s\\t\"\n",
    "        class_info_string += f\"{class_durations[label] / total_seconds * 100:.2f}%\"\n",
    "        print(class_info_string)"
   ],
   "id": "c381804381394276",
   "outputs": [],
   "execution_count": null
  },
  {
   "metadata": {},
   "cell_type": "code",
   "source": "summarize(AudioClassificationDataset(subset=\"training\"))",
   "id": "8f3ec0b4ff1df189",
   "outputs": [],
   "execution_count": null
  },
  {
   "metadata": {},
   "cell_type": "code",
   "source": "summarize(AudioClassificationDataset(subset=\"validation\"))",
   "id": "5d40a5657545f916",
   "outputs": [],
   "execution_count": null
  },
  {
   "metadata": {},
   "cell_type": "code",
   "source": "summarize(AudioClassificationDataset(subset=\"testing\"))",
   "id": "828a5def055e0858",
   "outputs": [],
   "execution_count": null
  }
 ],
 "metadata": {
  "kernelspec": {
   "display_name": "Python 3",
   "language": "python",
   "name": "python3"
  },
  "language_info": {
   "codemirror_mode": {
    "name": "ipython",
    "version": 2
   },
   "file_extension": ".py",
   "mimetype": "text/x-python",
   "name": "python",
   "nbconvert_exporter": "python",
   "pygments_lexer": "ipython2",
   "version": "2.7.6"
  }
 },
 "nbformat": 4,
 "nbformat_minor": 5
}
