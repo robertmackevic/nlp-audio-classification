{
 "cells": [
  {
   "cell_type": "code",
   "id": "initial_id",
   "metadata": {
    "collapsed": true,
    "ExecuteTime": {
     "end_time": "2024-10-05T11:07:14.884440Z",
     "start_time": "2024-10-05T11:07:14.881938Z"
    }
   },
   "source": [
    "from collections import Counter, defaultdict\n",
    "from pathlib import Path\n",
    "from statistics import mean\n",
    "from typing import Tuple\n",
    "\n",
    "import torchaudio\n",
    "\n",
    "from src.data.dataset import AudioClassificationDataset\n",
    "from src.utils import load_config"
   ],
   "outputs": [],
   "execution_count": 13
  },
  {
   "metadata": {
    "ExecuteTime": {
     "end_time": "2024-10-05T11:07:14.908940Z",
     "start_time": "2024-10-05T11:07:14.902439Z"
    }
   },
   "cell_type": "code",
   "source": [
    "CONFIG = load_config()\n",
    "\n",
    "\n",
    "def calculate_wav_duration(filepath: Path) -> Tuple[float, int]:\n",
    "    waveform, sample_rate = torchaudio.load(filepath)\n",
    "    num_samples = waveform.shape[1]\n",
    "    duration_seconds = num_samples / sample_rate\n",
    "    return duration_seconds, num_samples\n",
    "\n",
    "\n",
    "def summarize(dataset: AudioClassificationDataset) -> None:\n",
    "    num_samples = len(dataset.samples)\n",
    "    class_counter = Counter([sample[\"label\"] for sample in dataset.samples])\n",
    "    speaker_counter = Counter([sample[\"speaker\"] for sample in dataset.samples])\n",
    "\n",
    "    class_durations = defaultdict(float)\n",
    "    samples_counts = []\n",
    "\n",
    "    for sample in dataset.samples:\n",
    "        duration_seconds, num_samples_in_waveform = calculate_wav_duration(sample[\"filepath\"])\n",
    "        class_durations[sample[\"label\"]] += duration_seconds\n",
    "        samples_counts.append(num_samples_in_waveform)\n",
    "\n",
    "    total_seconds = sum(class_durations.values())\n",
    "    mean_duration = total_seconds / num_samples\n",
    "\n",
    "    print(f\"Number of utterances: {num_samples}\")\n",
    "    print(f\"Sample rate: {dataset.sample_rate} Hz\")\n",
    "    print(f\"Total duration: {total_seconds:.2f}s\")\n",
    "    print(f\"Mean utterance duration: {mean_duration:.2f}s\")\n",
    "    print(f\"Max samples in utterance: {max(samples_counts)}\")\n",
    "    print(f\"Min samples in utterance: {min(samples_counts)}\")\n",
    "    print(f\"Mean samples in utterance: {mean(samples_counts):.2f}\")\n",
    "    print(f\"Number of classes: {len(class_counter)}\")\n",
    "    print(f\"Number of speakers: {len(speaker_counter)}\")\n",
    "    print(\"Number of utterances per class:\")\n",
    "    print(\"\\tLabel\\tNum.\\tNum. %\\tSec.\\tSec. %\")\n",
    "    for label in dataset.class_labels:\n",
    "        count = class_counter.get(label)\n",
    "        class_info_string = f\"\\t{label} \\t{count} \\t\"\n",
    "        class_info_string += f\"{count / num_samples * 100:.2f}%\\t\"\n",
    "        class_info_string += f\"{class_durations[label]:.0f}s\\t\"\n",
    "        class_info_string += f\"{class_durations[label] / total_seconds * 100:.2f}%\"\n",
    "        print(class_info_string)"
   ],
   "id": "c381804381394276",
   "outputs": [],
   "execution_count": 14
  },
  {
   "metadata": {
    "ExecuteTime": {
     "end_time": "2024-10-05T11:07:23.647939Z",
     "start_time": "2024-10-05T11:07:14.925944Z"
    }
   },
   "cell_type": "code",
   "source": "summarize(AudioClassificationDataset(CONFIG))",
   "id": "674cbc1836109ae0",
   "outputs": [
    {
     "name": "stdout",
     "output_type": "stream",
     "text": [
      "Number of utterances: 38908\n",
      "Sample rate: 16000 Hz\n",
      "Total duration: 38274.61s\n",
      "Mean utterance duration: 0.98s\n",
      "Max samples in utterance: 16000\n",
      "Min samples in utterance: 4096\n",
      "Mean samples in utterance: 15739.53\n",
      "Number of classes: 10\n",
      "Number of speakers: 2519\n",
      "Number of utterances per class:\n",
      "\tLabel\tNum.\tNum. %\tSec.\tSec. %\n",
      "\tzero \t4052 \t10.41%\t3999s\t10.45%\n",
      "\tone \t3890 \t10.00%\t3808s\t9.95%\n",
      "\ttwo \t3880 \t9.97%\t3809s\t9.95%\n",
      "\tthree \t3727 \t9.58%\t3667s\t9.58%\n",
      "\tfour \t3728 \t9.58%\t3665s\t9.57%\n",
      "\tfive \t4052 \t10.41%\t3988s\t10.42%\n",
      "\tsix \t3860 \t9.92%\t3812s\t9.96%\n",
      "\tseven \t3998 \t10.28%\t3938s\t10.29%\n",
      "\teight \t3787 \t9.73%\t3714s\t9.70%\n",
      "\tnine \t3934 \t10.11%\t3874s\t10.12%\n"
     ]
    }
   ],
   "execution_count": 15
  },
  {
   "metadata": {
    "ExecuteTime": {
     "end_time": "2024-10-05T11:07:30.950900Z",
     "start_time": "2024-10-05T11:07:23.731405Z"
    }
   },
   "cell_type": "code",
   "source": "summarize(AudioClassificationDataset(CONFIG, subset=\"training\"))",
   "id": "8f3ec0b4ff1df189",
   "outputs": [
    {
     "name": "stdout",
     "output_type": "stream",
     "text": [
      "Number of utterances: 31158\n",
      "Sample rate: 16000 Hz\n",
      "Total duration: 30646.26s\n",
      "Mean utterance duration: 0.98s\n",
      "Max samples in utterance: 16000\n",
      "Min samples in utterance: 4096\n",
      "Mean samples in utterance: 15737.21\n",
      "Number of classes: 10\n",
      "Number of speakers: 2032\n",
      "Number of utterances per class:\n",
      "\tLabel\tNum.\tNum. %\tSec.\tSec. %\n",
      "\tzero \t3250 \t10.43%\t3208s\t10.47%\n",
      "\tone \t3140 \t10.08%\t3073s\t10.03%\n",
      "\ttwo \t3111 \t9.98%\t3053s\t9.96%\n",
      "\tthree \t2966 \t9.52%\t2918s\t9.52%\n",
      "\tfour \t2955 \t9.48%\t2904s\t9.48%\n",
      "\tfive \t3240 \t10.40%\t3188s\t10.40%\n",
      "\tsix \t3088 \t9.91%\t3050s\t9.95%\n",
      "\tseven \t3205 \t10.29%\t3158s\t10.30%\n",
      "\teight \t3033 \t9.73%\t2974s\t9.71%\n",
      "\tnine \t3170 \t10.17%\t3121s\t10.19%\n"
     ]
    }
   ],
   "execution_count": 16
  },
  {
   "metadata": {
    "ExecuteTime": {
     "end_time": "2024-10-05T11:07:31.884715Z",
     "start_time": "2024-10-05T11:07:31.031715Z"
    }
   },
   "cell_type": "code",
   "source": "summarize(AudioClassificationDataset(CONFIG, subset=\"validation\"))",
   "id": "5d40a5657545f916",
   "outputs": [
    {
     "name": "stdout",
     "output_type": "stream",
     "text": [
      "Number of utterances: 3643\n",
      "Sample rate: 16000 Hz\n",
      "Total duration: 3585.54s\n",
      "Mean utterance duration: 0.98s\n",
      "Max samples in utterance: 16000\n",
      "Min samples in utterance: 6144\n",
      "Mean samples in utterance: 15747.62\n",
      "Number of classes: 10\n",
      "Number of speakers: 246\n",
      "Number of utterances per class:\n",
      "\tLabel\tNum.\tNum. %\tSec.\tSec. %\n",
      "\tzero \t384 \t10.54%\t379s\t10.56%\n",
      "\tone \t351 \t9.63%\t342s\t9.55%\n",
      "\ttwo \t345 \t9.47%\t340s\t9.48%\n",
      "\tthree \t356 \t9.77%\t349s\t9.73%\n",
      "\tfour \t373 \t10.24%\t368s\t10.28%\n",
      "\tfive \t367 \t10.07%\t362s\t10.10%\n",
      "\tsix \t378 \t10.38%\t373s\t10.41%\n",
      "\tseven \t387 \t10.62%\t380s\t10.61%\n",
      "\teight \t346 \t9.50%\t339s\t9.46%\n",
      "\tnine \t356 \t9.77%\t353s\t9.84%\n"
     ]
    }
   ],
   "execution_count": 17
  },
  {
   "metadata": {
    "ExecuteTime": {
     "end_time": "2024-10-05T11:07:32.955714Z",
     "start_time": "2024-10-05T11:07:31.960215Z"
    }
   },
   "cell_type": "code",
   "source": "summarize(AudioClassificationDataset(CONFIG, subset=\"testing\"))",
   "id": "828a5def055e0858",
   "outputs": [
    {
     "name": "stdout",
     "output_type": "stream",
     "text": [
      "Number of utterances: 4107\n",
      "Sample rate: 16000 Hz\n",
      "Total duration: 4042.82s\n",
      "Mean utterance duration: 0.98s\n",
      "Max samples in utterance: 16000\n",
      "Min samples in utterance: 5944\n",
      "Mean samples in utterance: 15749.96\n",
      "Number of classes: 10\n",
      "Number of speakers: 241\n",
      "Number of utterances per class:\n",
      "\tLabel\tNum.\tNum. %\tSec.\tSec. %\n",
      "\tzero \t418 \t10.18%\t412s\t10.20%\n",
      "\tone \t399 \t9.72%\t393s\t9.72%\n",
      "\ttwo \t424 \t10.32%\t415s\t10.28%\n",
      "\tthree \t405 \t9.86%\t400s\t9.90%\n",
      "\tfour \t400 \t9.74%\t392s\t9.70%\n",
      "\tfive \t445 \t10.84%\t439s\t10.86%\n",
      "\tsix \t394 \t9.59%\t389s\t9.62%\n",
      "\tseven \t406 \t9.89%\t400s\t9.89%\n",
      "\teight \t408 \t9.93%\t401s\t9.92%\n",
      "\tnine \t408 \t9.93%\t400s\t9.90%\n"
     ]
    }
   ],
   "execution_count": 18
  }
 ],
 "metadata": {
  "kernelspec": {
   "display_name": "Python 3",
   "language": "python",
   "name": "python3"
  },
  "language_info": {
   "codemirror_mode": {
    "name": "ipython",
    "version": 2
   },
   "file_extension": ".py",
   "mimetype": "text/x-python",
   "name": "python",
   "nbconvert_exporter": "python",
   "pygments_lexer": "ipython2",
   "version": "2.7.6"
  }
 },
 "nbformat": 4,
 "nbformat_minor": 5
}
